{
  "cells": [
    {
      "cell_type": "markdown",
      "source": [
        "### Runtime info"
      ],
      "metadata": {
        "id": "Tu2bLPAn8m7D"
      },
      "id": "Tu2bLPAn8m7D"
    },
    {
      "cell_type": "code",
      "source": [
        "gpu_info = !nvidia-smi\n",
        "gpu_info = '\\n'.join(gpu_info)\n",
        "if gpu_info.find('failed') >= 0:\n",
        "  print('Not connected to a GPU')\n",
        "else:\n",
        "  print(gpu_info)"
      ],
      "metadata": {
        "colab": {
          "base_uri": "https://localhost:8080/"
        },
        "id": "-WP1yyyXHDe9",
        "outputId": "e092239b-604f-40b3-b252-7fc938d58001"
      },
      "id": "-WP1yyyXHDe9",
      "execution_count": 1,
      "outputs": [
        {
          "output_type": "stream",
          "name": "stdout",
          "text": [
            "Wed May 25 21:19:55 2022       \n",
            "+-----------------------------------------------------------------------------+\n",
            "| NVIDIA-SMI 460.32.03    Driver Version: 460.32.03    CUDA Version: 11.2     |\n",
            "|-------------------------------+----------------------+----------------------+\n",
            "| GPU  Name        Persistence-M| Bus-Id        Disp.A | Volatile Uncorr. ECC |\n",
            "| Fan  Temp  Perf  Pwr:Usage/Cap|         Memory-Usage | GPU-Util  Compute M. |\n",
            "|                               |                      |               MIG M. |\n",
            "|===============================+======================+======================|\n",
            "|   0  Tesla P100-PCIE...  Off  | 00000000:00:04.0 Off |                    0 |\n",
            "| N/A   43C    P0    29W / 250W |      0MiB / 16280MiB |      0%      Default |\n",
            "|                               |                      |                  N/A |\n",
            "+-------------------------------+----------------------+----------------------+\n",
            "                                                                               \n",
            "+-----------------------------------------------------------------------------+\n",
            "| Processes:                                                                  |\n",
            "|  GPU   GI   CI        PID   Type   Process name                  GPU Memory |\n",
            "|        ID   ID                                                   Usage      |\n",
            "|=============================================================================|\n",
            "|  No running processes found                                                 |\n",
            "+-----------------------------------------------------------------------------+\n"
          ]
        }
      ]
    },
    {
      "cell_type": "code",
      "source": [
        "from psutil import virtual_memory\n",
        "ram_gb = virtual_memory().total / 1e9\n",
        "print('Your runtime has {:.1f} gigabytes of available RAM\\n'.format(ram_gb))\n",
        "\n",
        "if ram_gb < 20:\n",
        "  print('Not using a high-RAM runtime')\n",
        "else:\n",
        "  print('You are using a high-RAM runtime!')"
      ],
      "metadata": {
        "colab": {
          "base_uri": "https://localhost:8080/"
        },
        "id": "PZ61Xa8AHgeM",
        "outputId": "6cadaa1a-eff0-4136-a9a0-f387a668724b"
      },
      "id": "PZ61Xa8AHgeM",
      "execution_count": 2,
      "outputs": [
        {
          "output_type": "stream",
          "name": "stdout",
          "text": [
            "Your runtime has 13.6 gigabytes of available RAM\n",
            "\n",
            "Not using a high-RAM runtime\n"
          ]
        }
      ]
    },
    {
      "cell_type": "markdown",
      "source": [
        "## Load packages and mount Google drive"
      ],
      "metadata": {
        "id": "onsEzyAW8MWL"
      },
      "id": "onsEzyAW8MWL"
    },
    {
      "cell_type": "code",
      "source": [
        "import nltk\n",
        "import string\n",
        "import json\n",
        "import pandas as pd\n",
        "\n",
        "#Download only once\n",
        "nltk.download('punkt')  #pre-trained tokenizer for English\n",
        "nltk.download('wordnet') #lexical database for the English language"
      ],
      "metadata": {
        "colab": {
          "base_uri": "https://localhost:8080/"
        },
        "id": "4gU7q6tp9Y9T",
        "outputId": "8b7a82ee-0e67-402a-8a72-7d574180268d"
      },
      "id": "4gU7q6tp9Y9T",
      "execution_count": 3,
      "outputs": [
        {
          "output_type": "stream",
          "name": "stdout",
          "text": [
            "[nltk_data] Downloading package punkt to /root/nltk_data...\n",
            "[nltk_data]   Unzipping tokenizers/punkt.zip.\n",
            "[nltk_data] Downloading package wordnet to /root/nltk_data...\n",
            "[nltk_data]   Unzipping corpora/wordnet.zip.\n"
          ]
        },
        {
          "output_type": "execute_result",
          "data": {
            "text/plain": [
              "True"
            ]
          },
          "metadata": {},
          "execution_count": 3
        }
      ]
    },
    {
      "cell_type": "code",
      "execution_count": 4,
      "metadata": {
        "id": "jsPbqvTJg7wr",
        "colab": {
          "base_uri": "https://localhost:8080/"
        },
        "outputId": "7cd5a6fd-06fd-4486-d26d-8c43c0d8ab2d"
      },
      "outputs": [
        {
          "output_type": "stream",
          "name": "stdout",
          "text": [
            "Mounted at /content/gdrive\n"
          ]
        }
      ],
      "source": [
        "from google.colab import drive\n",
        "drive.mount('/content/gdrive')"
      ],
      "id": "jsPbqvTJg7wr"
    },
    {
      "cell_type": "markdown",
      "source": [
        "## Load json"
      ],
      "metadata": {
        "id": "cd1l7fON8Smn"
      },
      "id": "cd1l7fON8Smn"
    },
    {
      "cell_type": "code",
      "source": [
        "f = open('/content/gdrive/My Drive/MSDS 453/Final/sample.json','r',errors = 'ignore')\n",
        "text = f.read()\n",
        "text"
      ],
      "metadata": {
        "colab": {
          "base_uri": "https://localhost:8080/",
          "height": 255
        },
        "id": "gEXZpE0S3Jlk",
        "outputId": "b0bffe97-659e-4250-8d6c-ceb60341dbe7"
      },
      "id": "gEXZpE0S3Jlk",
      "execution_count": 5,
      "outputs": [
        {
          "output_type": "execute_result",
          "data": {
            "text/plain": [
              "'{\\n    \"Food & Wine\": \"Food & Wine is an American monthly magazine published by Dotdash Meredith. It was founded in 1978 by Ariane and Michael Batterberry.  It features recipes, cooking tips, travel information, restaurant reviews, chefs, wine pairings and seasonal/holiday content and has been credited by The New York Times with introducing the dining public to \\\\\"Perrier, the purple Peruvian potato and Patagonian toothfish\\\\\".\\\\nThe premier event for the magazine is the Food & Wine Classic in Aspen, Colorado. The Classic features wine tasting, cooking demonstrations, featured speakers, as well as a cooking competition. Held annually in June, the event is considered the kickoff to the Aspen summer season and celebrates its 38th anniversary in 2022.\\\\nThe winner of Top Chef, the reality television cooking competition, is featured in a spread in this magazine.\",\\n    \"Wine and food pairing\": \"Wine and food matching is the process of pairing food dishes with wine to enhance the dining experience. In many cultures, wine has had a long history of being a staple at the dinner table and in some ways both the winemaking and culinary traditions of a region will have evolved together over the years. Rather than following a set of rules, local cuisines were paired simply with local wines. The modern \\\\\"art\\\\\" of food pairings is a relatively recent phenomenon, fostering an industry of books and media with guidelines for pairings of particular foods and wine. In the restaurant industry, sommeliers are often present to make food pairing recommendations for the guest. The main concept behind pairings is that certain elements (such as texture and flavor) in both food and wine interact with each other, and thus finding the right combination of these elements will make the entire dining experience more enjoyable. However, taste and enjoyment are very subjective and what may be a \\\\\"textbook perfect\\\\\" pairing for one taster could be less enjoyable to another.While there are many books, magazines and websites with detailed guidelines on how to pair food and wine, most food and wine experts believe that the most basic element of food and wine pairing is understanding the balance between the \\\\\"weight\\\\\" of the food and the weight (or body) of the wine. Heavy, robust wines like Cabernet Sauvignon can overwhelm a light, delicate dish like a quiche, while light-bodied wines like Pinot Grigio would be similarly overwhelmed by a hearty stew. Beyond weight, flavors and textures can either be contrasted or complemented. From there a food and wine pairing can also take into consideration the sugar, acid, alcohol and tannins of the wine and how they can be accentuated or minimized when paired with certain types of food.\",\\n    \"Prue Leith\": \"Dame Prudence Margaret Leith,  (born 18 February 1940) is a British-South African restaurateur, chef, caterer, television presenter/broadcaster, journalist, cookery writer and novelist. She is Chancellor of Queen Margaret University, Edinburgh. She was a judge on BBC Two\\'s Great British Menu for eleven years, before joining The Great British Bake Off in March 2017, replacing Mary Berry, when the television programme moved to Channel 4.\",\\n    \"Wine\": \"Wine is an alcoholic drink typically made from fermented grapes. Yeast consumes the sugar in the grapes and converts it to ethanol and carbon dioxide, releasing heat in the process. Different varieties of grapes and strains of yeasts are major factors in different styles of wine. These differences result from the complex interactions between the biochemical development of the grape, the reactions involved in fermentation, the grape\\'s growing environment (terroir), and the wine production process. Many countries enact legal appellations intended to define styles and qualities of wine. These typically restrict the geographical origin and permitted varieties of grapes, as well as other aspects of wine production. Wines not made from grapes involve fermentation of other crops including rice wine and other fruit wines such as plum, cherry, pomegranate, currant and elderberry.\\\\nWine has been produced for thousands of years. The earliest evidence of wine is from the Caucasus region in today\\'s Georgia (6000 BCE), Persia (5000 BCE), and Italy (4000 BCE). New World wine has some connection to alcoholic beverages made by the indigenous peoples of the Americas, but is mainly connected to later Spanish traditions in New Spain. Later, as Old World wine further developed viticulture techniques, Europe would encompass three of the largest wine-producing regions. Today, the five countries with the largest wine-producing regions are in Italy, Spain, France, the United States, and China.Wine has long played an important role in religion. Red wine was associated with blood by the ancient Egyptians and was used by both the Greek cult of Dionysus and the Romans in their Bacchanalia; Judaism also incorporates it in the Kiddush, and Christianity in the Eucharist. Egyptian, Greek, Roman, and Israeli wine cultures are still connected to these ancient roots. Similarly the largest wine regions in Italy, Spain, and France have heritages in connection to sacramental wine, likewise, viticulture traditions in the Southwestern United States started within New Spain as Catholic friars and monks first produced wines in New Mexico and California.\",\\n    \"Sarma Melngailis\": \"Sarma Melngailis (born September 10, 1972) is an American chef, cookbook author, and businesswoman. She was the owner and co-founder of Pure Food and Wine and One Lucky Duck, both vegan raw food restaurants in New York City. Both businesses closed in 2016 after staff walked out over unpaid wages. Melngailis was arrested for fraud in 2016 and convicted in 2017.\",\\n    \"Matthew Kenney\": \"Matthew Kenney is an American celebrity chef, entrepreneur, author, and educator specializing in plant-based cuisine. He is the author of 12 cookbooks, founder of dozens of vegan restaurants, and founder of the companies Matthew Kenney Cuisine and Matthew Kenney Culinary, a plant-based diet education business.\",\\n    \"Epcot International Food & Wine Festival\": \"The Epcot International Food & Wine Festival is an annual food festival at Epcot, in the Walt Disney World Resort in Bay Lake, Florida. It runs typically from late September to mid-November, though in recent years the start date has moved forward to late August. Special kiosks are set up around the World Showcase with food and drinks that reflect various countries. The activities, themes and corporate sponsors have changed over the years since the festival began in 1995.Admission to the basic festival is included with park admission, but guests must purchase the food and drink separately.  Activities have included concerts, books signings and demonstrations. Certain special events require a separate admission pass.\",\\n    \"Melbourne Food and Wine Festival\": \"The Melbourne Food and Wine Festival, run by Food and Wine Victoria Ltd. is an event held in March annually since 1993 to promote Melbourne and Victoria\\'s food and wine culture.\\\\nOperating on a not-for-profit basis, the festival\\'s charter is to promote the produce, talent and lifestyle of Melbourne and Victoria, and to promote Melbourne as the \\\\\"food and wine capital of Australia\\\\\". Since its beginnings with a small program of events, the festival has grown to become known for events including cooking classes and large \\'banquet-style\\' lunches.\\\\nThe festival has a board of management and is supported by a small team who are responsible for the coordination of its events, in close collaboration with Victoria\\'s food and wine industry.\",\\n    \"Slow Food\": \"Slow Food is an organization that promotes local food and traditional cooking. It was founded by Carlo Petrini in Italy in 1986 and has since spread worldwide. Promoted as an alternative to fast food, it strives to preserve traditional and regional cuisine and encourages farming of plants, seeds, and livestock characteristic of the local ecosystem. It promotes local small businesses and sustainable foods. It also focuses on food quality, rather than quantity. It was the first established part of the broader slow movement. It speaks out against overproduction and food waste. It sees globalization as a process in which small and local farmers and food producers should be simultaneously protected from and included in the global food system.\",\\n    \"Florence\": \"Florence ( FLORR-\\\\u0259nss; Italian: Firenze [fi\\\\u02c8r\\\\u025bntse] (listen)) is a city in Central Italy and the capital city of the Tuscany region. It is the most populated city in Tuscany, with 383,083 inhabitants in 2016, and over 1,520,000 in its metropolitan area.Florence was a centre of medieval European trade and finance and one of the wealthiest cities of that era. It is considered by many academics to have been the birthplace of the Renaissance, becoming a major artistic, cultural, commercial, political, economic and financial center. During this time, Florence rose to a position of enormous influence in Italy, Europe, and beyond. Its turbulent political history includes periods of rule by the powerful Medici family and numerous religious and republican revolutions. From 1865 to 1871 the city served as the capital of the Kingdom of Italy (established in 1861). The Florentine dialect forms the base of Standard Italian and it became the language of culture throughout Italy due to the prestige of the masterpieces by Dante Alighieri, Petrarch, Giovanni Boccaccio, Niccol\\\\u00f2 Machiavelli and Francesco Guicciardini.\\\\nThe city attracts millions of tourists each year, and UNESCO declared the Historic Centre of Florence a World Heritage Site in 1982. The city is noted for its culture, Renaissance art and architecture and monuments. The city also contains numerous museums and art galleries, such as the Uffizi Gallery and the Palazzo Pitti, and still exerts an influence in the fields of art, culture and politics. Due to Florence\\'s artistic and architectural heritage, Forbes has ranked it as the most beautiful city in the world of 2010.Florence plays an important role in Italian fashion, and is ranked in the top 15 fashion capitals of the world by Global Language Monitor; furthermore, it is a major national economic centre, as well as a tourist and industrial hub. It is the 4th richest Italian city.\",\\n    \"Michel Roux (chef, born 1960)\": \"Michel Albert Roux (born 23 May 1960) previously known as Michel Roux Jr., is an English-French two Michelin starred chef. He owns the London restaurant Le Gavroche.\",\\n    \"International Wine and Food Society\": \"The International Wine & Food Society Ltd. (formerly the Wine and Food Society) is a not-for-profit gastronomical organisation founded in 1933 by Andr\\\\u00e9 Simon and A.J.A. Symons.  According to its website, the society\\'s mission is \\\\\"the promotion of a broad knowledge and understanding of both wine and food, the enhancement of their appreciation, and the nurturing of camaraderie among those who share the pleasures of the table.\\\\\" With branches in Europe, North America, Africa, Australia and Asia, its members host a series of events throughout the year that have included dinners, wine tastings and food appreciation courses.  As of 2021, there are over 130 branches and more than 6,500 members worldwide.\",\\n    \"Sommelier\": \"A sommelier ( or  or ; French pronunciation: \\\\u200b[s\\\\u0254m\\\\u0259lje]), or wine steward, is a trained and knowledgeable wine professional, normally working in fine restaurants, who specializes in all aspects of wine service as well as wine and food pairing. The role of the wine steward in fine dining today is much more specialized and informed than that of a \\\\\"wine waiter\\\\\".  Sommeliers Australia states that the role is strategically on par with that of the chef de cuisine.\",\\n    \"Kistler Vineyards\": \"Kistler Vineyards is a family-owned California winery located in Northern California\\'s wine producing region of Sonoma County. According to Food and Wine Magazine, their \\\\\"biannual release of Chardonnay is one of the most sought after by wine enthusiasts\\\\\" and Food and Wine Magazine\\'s Wine Guide considers their Chardonnays the \\\\\"Best of the Best\\\\\" among \\\\\"Star Producers\\\\\"\",\\n    \"Halls Gap\": \"Halls Gap is a town in Victoria, Australia.  It is located on Grampians Road, adjacent to the Grampians National Park, in the Shire of Northern Grampians local government area. The town is set in the Fyans Valley at the foot of the Wonderland and Mount William ranges. At the 2016 census Halls Gap had a population of 430. The approximate driving time from Melbourne is 3 hours.\",\\n    \"Phenolic content in wine\": \"The phenolic content in wine refers to the phenolic compounds\\\\u2014natural phenol and polyphenols\\\\u2014in wine, which include a large group of several hundred chemical compounds that affect the taste, color and mouthfeel of wine. These compounds include phenolic acids, stilbenoids, flavonols, dihydroflavonols, anthocyanins, flavanol monomers (catechins) and flavanol polymers (proanthocyanidins). This large group of natural phenols can be broadly separated into two categories, flavonoids and non-flavonoids. Flavonoids include the anthocyanins and tannins which contribute to the color and mouthfeel of the wine. The non-flavonoids include the stilbenoids such as resveratrol and phenolic acids such as benzoic, caffeic and cinnamic acids.\",\\n    \"Antoni Porowski\": \"Antoni Janusz Porowski (born March 14, 1984) is a Canadian television personality, chef, actor, model and author. He is the food and wine expert on the Netflix series Queer Eye (2018\\\\u2013present).\",\\n    \"Food contact materials\": \"Food contact materials are materials that are intended to be in contact with food. These can be things that are quite obvious like a glass or a can for soft drinks as well as machinery in a food factory or a coffee machine.\\\\nFood contact materials can be constructed from a variety of materials, including plastics, rubber, paper, coatings, metal, etc. In many cases, a combination is used; for example, a carton box for juices can include (from the inside to the outside) a plastic layer, aluminum, paper, printing, and top coating.\\\\nDuring contact with the food, molecules can migrate from the food contact material to the food, for example, via blooming. Because of this, in many countries, regulations are made to ensure food safety.\",\\n    \"Shep Gordon\": \"Shep E. Gordon (born October 18, 1945) is an American talent manager, Hollywood film agent, and producer. Gordon is featured in a 2013 documentary, Supermensch: The Legend of Shep Gordon, which was directed by Mike Myers.\",\\n    \"Saint-Est\\\\u00e8phe AOC\": \"Saint-Est\\\\u00e8phe is an Appellation d\\'Origine Contr\\\\u00f4l\\\\u00e9e (AOC) for red wine in the Bordeaux region, located in the M\\\\u00e9doc subregion. It takes its name from the commune of Saint-Est\\\\u00e8phe and is the northernmost of the six communal appellations in M\\\\u00e9doc. Five classified growths of 1855 (Bordeaux Grands Crus Class\\\\u00e9s en 1855)  are located within the appellation area. Saint-Est\\\\u00e8phe has held AOC recognition since 1936.\",\\n    \"Austin Food & Wine Festival\": \"The Austin Food & Wine Festival was held for the first time in Austin, Texas, in 2012. It benefits the nonprofit Austin Food & Wine Alliance. Until 2011, the festival\\'s predecessor has been the  Texas Hill Country Food & Wine Festival.\",\\n    \"Ted Allen\": \"Edward Reese Allen (born May 20, 1965) is an American author and television personality. He was the food and wine connoisseur on the Bravo network\\'s television program Queer Eye, and has been the host of the TV cooking competition series Chopped since its launch in 2009, as well as Chopped Junior, which began in mid-2015. On April 13, 2014, he became the host of another Food Network show, originally called America\\'s Best Cook; a retooled version of that show, retitled All-Star Academy, which debuted on March 1, 2015. In early 2015, he also hosted a four-part special, Best. Ever., which scoured America for its best burgers, pizza, breakfast, and barbecue. He is a longtime contributing writer to Esquire magazine, the author of two cookbooks, and regularly appears on the Food Network show The Best Thing I Ever Ate and other television cooking shows.\",\\n    \"Spanish cuisine\": \"Spanish cuisine (Spanish: Cocina espa\\\\u00f1ola) consists of the cooking traditions and practices from Spain. Olive oil (of which Spain is the world\\'s largest producer) is heavily used in Spanish cuisine. It forms the base of many vegetable sauces (known in Spanish as sofritos). Herbs most commonly used include parsley, oregano, rosemary and thyme. The use of garlic has been noted as \\\\\"common to all Spanish cooking.\\\\\" The most used meats in Spanish cuisine include chicken, pork, lamb and veal. Fish and seafood are also consumed on a regular basis.Charles Perry refers to Spanish cuisine as \\\\\"an existential sort of cuisine with a tough, dogged, living-on-the-edge character\\\\\".\",\\n    \"Gizzi Erskine\": \"Griselda \\\\\"Gizzi\\\\\" Maxwell Erskine (born 20 August 1979) is an English cook and TV personality.\",\\n    \"Joe Bastianich\": \"Joseph Bastianich (born September 17, 1968) is an American restaurateur, winemaker, author, television personality, and musician. He, along with his mother and business partner Lidia Bastianich, co-owns thirty restaurants in four countries, including Osteria Mozza in Los Angeles, which the owners expanded in 2010. Earlier that same year, they teamed up with businessman Oscar Farinetti to bring Eataly, an upscale food and wine market, to Boston, Chicago, Las Vegas, Los Angeles, New York City and London.\"\\n}'"
            ],
            "application/vnd.google.colaboratory.intrinsic+json": {
              "type": "string"
            }
          },
          "metadata": {},
          "execution_count": 5
        }
      ]
    },
    {
      "cell_type": "markdown",
      "source": [
        "# Create dataframe and EDA"
      ],
      "metadata": {
        "id": "ciLPj2Kc8asz"
      },
      "id": "ciLPj2Kc8asz"
    },
    {
      "cell_type": "code",
      "source": [
        "df = pd.read_json('/content/gdrive/My Drive/MSDS 453/Final/sample.json', orient = 'index')\n",
        "df.reset_index(inplace = True)"
      ],
      "metadata": {
        "id": "2y9umhPY86eu"
      },
      "id": "2y9umhPY86eu",
      "execution_count": 6,
      "outputs": []
    },
    {
      "cell_type": "code",
      "source": [
        "df.head()"
      ],
      "metadata": {
        "id": "WlAUmoix9S_n",
        "colab": {
          "base_uri": "https://localhost:8080/",
          "height": 206
        },
        "outputId": "e299b04c-d6f6-4d37-f5ab-37c17082f52b"
      },
      "id": "WlAUmoix9S_n",
      "execution_count": 7,
      "outputs": [
        {
          "output_type": "execute_result",
          "data": {
            "text/plain": [
              "                   index                                                  0\n",
              "0            Food & Wine  Food & Wine is an American monthly magazine pu...\n",
              "1  Wine and food pairing  Wine and food matching is the process of pairi...\n",
              "2             Prue Leith  Dame Prudence Margaret Leith,  (born 18 Februa...\n",
              "3                   Wine  Wine is an alcoholic drink typically made from...\n",
              "4       Sarma Melngailis  Sarma Melngailis (born September 10, 1972) is ..."
            ],
            "text/html": [
              "\n",
              "  <div id=\"df-1ac3c6e8-d97a-48c7-8305-e851d7942995\">\n",
              "    <div class=\"colab-df-container\">\n",
              "      <div>\n",
              "<style scoped>\n",
              "    .dataframe tbody tr th:only-of-type {\n",
              "        vertical-align: middle;\n",
              "    }\n",
              "\n",
              "    .dataframe tbody tr th {\n",
              "        vertical-align: top;\n",
              "    }\n",
              "\n",
              "    .dataframe thead th {\n",
              "        text-align: right;\n",
              "    }\n",
              "</style>\n",
              "<table border=\"1\" class=\"dataframe\">\n",
              "  <thead>\n",
              "    <tr style=\"text-align: right;\">\n",
              "      <th></th>\n",
              "      <th>index</th>\n",
              "      <th>0</th>\n",
              "    </tr>\n",
              "  </thead>\n",
              "  <tbody>\n",
              "    <tr>\n",
              "      <th>0</th>\n",
              "      <td>Food &amp; Wine</td>\n",
              "      <td>Food &amp; Wine is an American monthly magazine pu...</td>\n",
              "    </tr>\n",
              "    <tr>\n",
              "      <th>1</th>\n",
              "      <td>Wine and food pairing</td>\n",
              "      <td>Wine and food matching is the process of pairi...</td>\n",
              "    </tr>\n",
              "    <tr>\n",
              "      <th>2</th>\n",
              "      <td>Prue Leith</td>\n",
              "      <td>Dame Prudence Margaret Leith,  (born 18 Februa...</td>\n",
              "    </tr>\n",
              "    <tr>\n",
              "      <th>3</th>\n",
              "      <td>Wine</td>\n",
              "      <td>Wine is an alcoholic drink typically made from...</td>\n",
              "    </tr>\n",
              "    <tr>\n",
              "      <th>4</th>\n",
              "      <td>Sarma Melngailis</td>\n",
              "      <td>Sarma Melngailis (born September 10, 1972) is ...</td>\n",
              "    </tr>\n",
              "  </tbody>\n",
              "</table>\n",
              "</div>\n",
              "      <button class=\"colab-df-convert\" onclick=\"convertToInteractive('df-1ac3c6e8-d97a-48c7-8305-e851d7942995')\"\n",
              "              title=\"Convert this dataframe to an interactive table.\"\n",
              "              style=\"display:none;\">\n",
              "        \n",
              "  <svg xmlns=\"http://www.w3.org/2000/svg\" height=\"24px\"viewBox=\"0 0 24 24\"\n",
              "       width=\"24px\">\n",
              "    <path d=\"M0 0h24v24H0V0z\" fill=\"none\"/>\n",
              "    <path d=\"M18.56 5.44l.94 2.06.94-2.06 2.06-.94-2.06-.94-.94-2.06-.94 2.06-2.06.94zm-11 1L8.5 8.5l.94-2.06 2.06-.94-2.06-.94L8.5 2.5l-.94 2.06-2.06.94zm10 10l.94 2.06.94-2.06 2.06-.94-2.06-.94-.94-2.06-.94 2.06-2.06.94z\"/><path d=\"M17.41 7.96l-1.37-1.37c-.4-.4-.92-.59-1.43-.59-.52 0-1.04.2-1.43.59L10.3 9.45l-7.72 7.72c-.78.78-.78 2.05 0 2.83L4 21.41c.39.39.9.59 1.41.59.51 0 1.02-.2 1.41-.59l7.78-7.78 2.81-2.81c.8-.78.8-2.07 0-2.86zM5.41 20L4 18.59l7.72-7.72 1.47 1.35L5.41 20z\"/>\n",
              "  </svg>\n",
              "      </button>\n",
              "      \n",
              "  <style>\n",
              "    .colab-df-container {\n",
              "      display:flex;\n",
              "      flex-wrap:wrap;\n",
              "      gap: 12px;\n",
              "    }\n",
              "\n",
              "    .colab-df-convert {\n",
              "      background-color: #E8F0FE;\n",
              "      border: none;\n",
              "      border-radius: 50%;\n",
              "      cursor: pointer;\n",
              "      display: none;\n",
              "      fill: #1967D2;\n",
              "      height: 32px;\n",
              "      padding: 0 0 0 0;\n",
              "      width: 32px;\n",
              "    }\n",
              "\n",
              "    .colab-df-convert:hover {\n",
              "      background-color: #E2EBFA;\n",
              "      box-shadow: 0px 1px 2px rgba(60, 64, 67, 0.3), 0px 1px 3px 1px rgba(60, 64, 67, 0.15);\n",
              "      fill: #174EA6;\n",
              "    }\n",
              "\n",
              "    [theme=dark] .colab-df-convert {\n",
              "      background-color: #3B4455;\n",
              "      fill: #D2E3FC;\n",
              "    }\n",
              "\n",
              "    [theme=dark] .colab-df-convert:hover {\n",
              "      background-color: #434B5C;\n",
              "      box-shadow: 0px 1px 3px 1px rgba(0, 0, 0, 0.15);\n",
              "      filter: drop-shadow(0px 1px 2px rgba(0, 0, 0, 0.3));\n",
              "      fill: #FFFFFF;\n",
              "    }\n",
              "  </style>\n",
              "\n",
              "      <script>\n",
              "        const buttonEl =\n",
              "          document.querySelector('#df-1ac3c6e8-d97a-48c7-8305-e851d7942995 button.colab-df-convert');\n",
              "        buttonEl.style.display =\n",
              "          google.colab.kernel.accessAllowed ? 'block' : 'none';\n",
              "\n",
              "        async function convertToInteractive(key) {\n",
              "          const element = document.querySelector('#df-1ac3c6e8-d97a-48c7-8305-e851d7942995');\n",
              "          const dataTable =\n",
              "            await google.colab.kernel.invokeFunction('convertToInteractive',\n",
              "                                                     [key], {});\n",
              "          if (!dataTable) return;\n",
              "\n",
              "          const docLinkHtml = 'Like what you see? Visit the ' +\n",
              "            '<a target=\"_blank\" href=https://colab.research.google.com/notebooks/data_table.ipynb>data table notebook</a>'\n",
              "            + ' to learn more about interactive tables.';\n",
              "          element.innerHTML = '';\n",
              "          dataTable['output_type'] = 'display_data';\n",
              "          await google.colab.output.renderOutput(dataTable, element);\n",
              "          const docLink = document.createElement('div');\n",
              "          docLink.innerHTML = docLinkHtml;\n",
              "          element.appendChild(docLink);\n",
              "        }\n",
              "      </script>\n",
              "    </div>\n",
              "  </div>\n",
              "  "
            ]
          },
          "metadata": {},
          "execution_count": 7
        }
      ]
    },
    {
      "cell_type": "code",
      "source": [
        "# create copy and rename columns\n",
        "df = df.copy()\n",
        "df = df.rename(columns = {'index':'Page', 0 : 'Text' })"
      ],
      "metadata": {
        "id": "HQjpy7fb9UPE"
      },
      "id": "HQjpy7fb9UPE",
      "execution_count": 8,
      "outputs": []
    },
    {
      "cell_type": "code",
      "source": [
        "df.info()"
      ],
      "metadata": {
        "id": "Rq6PQWOp438M",
        "colab": {
          "base_uri": "https://localhost:8080/"
        },
        "outputId": "0072d134-c713-4f3a-f836-c01a4f72703b"
      },
      "id": "Rq6PQWOp438M",
      "execution_count": 9,
      "outputs": [
        {
          "output_type": "stream",
          "name": "stdout",
          "text": [
            "<class 'pandas.core.frame.DataFrame'>\n",
            "RangeIndex: 25 entries, 0 to 24\n",
            "Data columns (total 2 columns):\n",
            " #   Column  Non-Null Count  Dtype \n",
            "---  ------  --------------  ----- \n",
            " 0   Page    25 non-null     object\n",
            " 1   Text    25 non-null     object\n",
            "dtypes: object(2)\n",
            "memory usage: 528.0+ bytes\n"
          ]
        }
      ]
    },
    {
      "cell_type": "markdown",
      "source": [
        "# Preprocessing\n",
        "Source: https://analyticsindiamag.com/how-does-a-simple-chatbot-with-nltk-work/"
      ],
      "metadata": {
        "id": "UJPkG0lB1Z4q"
      },
      "id": "UJPkG0lB1Z4q"
    },
    {
      "cell_type": "code",
      "source": [
        "# Change all text to lowercase\n",
        "# Create lists of tokenized stences and words\n",
        "text = text.lower()\n",
        "sentences = nltk.sent_tokenize(text)\n",
        "tokens = nltk.word_tokenize(text)"
      ],
      "metadata": {
        "id": "jJ-ncFUo1dgc"
      },
      "id": "jJ-ncFUo1dgc",
      "execution_count": 10,
      "outputs": []
    },
    {
      "cell_type": "code",
      "source": [
        "lemmer = nltk.stem.WordNetLemmatizer()\n",
        "from nltk.corpus import stopwords\n",
        "\n",
        "# Lemmatizing words or tokens\n",
        "def LemTokens(tokens):\n",
        "   return [lemmer.lemmatize(token,'v') for token in tokens if token not in set(stopwords.words('english')) ]\n",
        "\n",
        "remove_punct_dict = dict((ord(punct), None) for punct in string.punctuation)\n",
        "\n",
        "# Dictionary of integer codes\n",
        "print(remove_punct_dict)"
      ],
      "metadata": {
        "colab": {
          "base_uri": "https://localhost:8080/"
        },
        "id": "Ppd8IvsA1dWh",
        "outputId": "b2ebf924-a9b1-4ecd-9dc4-578b1e2dca6f"
      },
      "id": "Ppd8IvsA1dWh",
      "execution_count": 11,
      "outputs": [
        {
          "output_type": "stream",
          "name": "stdout",
          "text": [
            "{33: None, 34: None, 35: None, 36: None, 37: None, 38: None, 39: None, 40: None, 41: None, 42: None, 43: None, 44: None, 45: None, 46: None, 47: None, 58: None, 59: None, 60: None, 61: None, 62: None, 63: None, 64: None, 91: None, 92: None, 93: None, 94: None, 95: None, 96: None, 123: None, 124: None, 125: None, 126: None}\n"
          ]
        }
      ]
    },
    {
      "cell_type": "code",
      "source": [
        "# Clean and tokenize  text\n",
        "def LemNormalize(text):\n",
        "   return LemTokens(nltk.word_tokenize(text.lower().translate(remove_punct_dict)))"
      ],
      "metadata": {
        "id": "I9rAwPBS1dT7"
      },
      "id": "I9rAwPBS1dT7",
      "execution_count": 12,
      "outputs": []
    },
    {
      "cell_type": "code",
      "source": [
        "# Bag of words\n",
        "from sklearn.metrics.pairwise import cosine_similarity\n",
        "from sklearn.feature_extraction.text import CountVectorizer"
      ],
      "metadata": {
        "id": "ZyWgxYs61dRW"
      },
      "id": "ZyWgxYs61dRW",
      "execution_count": 13,
      "outputs": []
    },
    {
      "cell_type": "markdown",
      "source": [
        "# Q+A\n",
        "Source: https://analyticsindiamag.com/how-does-a-simple-chatbot-with-nltk-work/"
      ],
      "metadata": {
        "id": "8j22NDVY5RUi"
      },
      "id": "8j22NDVY5RUi"
    },
    {
      "cell_type": "code",
      "source": [
        "# Function to identify similarity in sentences \n",
        "def response(user_response):\n",
        "       sentences.append(user_response) # Add user reponse\n",
        "       cv = CountVectorizer(max_features = 50, tokenizer = LemNormalize, analyzer = 'word') # Create matrix (col = words, rows = sent, value = word count)\n",
        "       X = cv.fit_transform(sentences)\n",
        "       vals_cv = cosine_similarity(X[-1], X)\n",
        "       indx_of_most_similar_sentence = vals_cv.argsort()[0][-2] # Sorting the indexes based on increasing similarity\n",
        "       flat_vals_cv = vals_cv.flatten()\n",
        "       flat_vals_cv.sort()\n",
        "       highest_similarity = flat_vals_cv[-2] # TFIDF\n",
        "\n",
        "       if(highest_similarity == 0):\n",
        "              robo_response = \"I am sorry! I don't understand you\"\n",
        "              return robo_response\n",
        "       else:\n",
        "              robo_response = sentences[indx_of_most_similar_sentence]\n",
        "              return robo_response"
      ],
      "metadata": {
        "id": "HgIFRw9f1dGY"
      },
      "id": "HgIFRw9f1dGY",
      "execution_count": 14,
      "outputs": []
    },
    {
      "cell_type": "code",
      "source": [
        "import nltk\n",
        "nltk.download('stopwords')"
      ],
      "metadata": {
        "colab": {
          "base_uri": "https://localhost:8080/"
        },
        "id": "lRCZ_agc_g_j",
        "outputId": "60f0f03d-3c84-4738-ea2b-a13bb2cc4eb5"
      },
      "id": "lRCZ_agc_g_j",
      "execution_count": 15,
      "outputs": [
        {
          "output_type": "stream",
          "name": "stdout",
          "text": [
            "[nltk_data] Downloading package stopwords to /root/nltk_data...\n",
            "[nltk_data]   Unzipping corpora/stopwords.zip.\n"
          ]
        },
        {
          "output_type": "execute_result",
          "data": {
            "text/plain": [
              "True"
            ]
          },
          "metadata": {},
          "execution_count": 15
        }
      ]
    },
    {
      "cell_type": "code",
      "source": [
        "# Maintain session\n",
        "exit_codes = ['bye', 'see you', 'c ya', 'exit']\n",
        "flag = True\n",
        "print(\"Hello, I am Anna's Chatbot Assistant, and I will try to answer your questions about wine!\")\n",
        "\n",
        "while(flag==True):\n",
        "  user_response = input(\"User: \")\n",
        "  if user_response.lower() not in exit_codes:\n",
        "    user_response = user_response.lower()\n",
        "    print(\"Chatbot Assistant:\", response(user_response))\n",
        "    sentences.remove(user_response)\n",
        "    print('\\nWould you like to continue asking questions? (yes or no)')\n",
        "    user_response = input(\"User: \")\n",
        "\n",
        "  if user_response.lower() == 'no' or user_response.lower() == 'NO' or user_response.lower() in exit_codes :\n",
        "    print('Have a great day!')\n",
        "    flag=False\n",
        "\n",
        "  else :\n",
        "    print (\"Please ask another question.\")\n"
      ],
      "metadata": {
        "colab": {
          "base_uri": "https://localhost:8080/"
        },
        "id": "ARsDgN9k4hC-",
        "outputId": "e0d59236-09e2-4243-9ddb-35edcd1b41d5"
      },
      "id": "ARsDgN9k4hC-",
      "execution_count": null,
      "outputs": [
        {
          "output_type": "stream",
          "name": "stdout",
          "text": [
            "Hello, I am Anna's Chatbot Assistant, and I will try to answer your questions about wine!\n",
            "User: how is wine made?\n",
            "Chatbot Assistant: \",\n",
            "    \"wine\": \"wine is an alcoholic drink typically made from fermented grapes.\n",
            "\n",
            "Would you like to continue asking questions? (yes or no)\n"
          ]
        }
      ]
    },
    {
      "cell_type": "code",
      "source": [
        ""
      ],
      "metadata": {
        "id": "mCIhJsEr4hAo"
      },
      "id": "mCIhJsEr4hAo",
      "execution_count": null,
      "outputs": []
    },
    {
      "cell_type": "code",
      "source": [
        ""
      ],
      "metadata": {
        "id": "lxm8EQD04g-S"
      },
      "id": "lxm8EQD04g-S",
      "execution_count": null,
      "outputs": []
    },
    {
      "cell_type": "code",
      "source": [
        ""
      ],
      "metadata": {
        "id": "gV3UNGUv4g8P"
      },
      "id": "gV3UNGUv4g8P",
      "execution_count": null,
      "outputs": []
    }
  ],
  "metadata": {
    "kernelspec": {
      "display_name": "Python 3",
      "language": "python",
      "name": "python3"
    },
    "language_info": {
      "codemirror_mode": {
        "name": "ipython",
        "version": 3
      },
      "file_extension": ".py",
      "mimetype": "text/x-python",
      "name": "python",
      "nbconvert_exporter": "python",
      "pygments_lexer": "ipython3",
      "version": "3.8.10"
    },
    "colab": {
      "name": "Final - Create CB -  v2.ipynb",
      "provenance": [],
      "collapsed_sections": []
    },
    "accelerator": "GPU"
  },
  "nbformat": 4,
  "nbformat_minor": 5
}